{
  "cells": [
    {
      "cell_type": "code",
      "execution_count": null,
      "metadata": {
        "id": "byrAqVJXXCvb"
      },
      "outputs": [],
      "source": [
        "!pip install contractions\n",
        "!pip install TextBlob"
      ]
    },
    {
      "cell_type": "code",
      "execution_count": null,
      "metadata": {
        "colab": {
          "base_uri": "https://localhost:8080/"
        },
        "id": "vTGe6qd-kPEJ",
        "outputId": "a580e43b-f028-4217-efc7-5d8d916aeb28"
      },
      "outputs": [
        {
          "output_type": "stream",
          "name": "stdout",
          "text": [
            "Drive already mounted at /content/drive; to attempt to forcibly remount, call drive.mount(\"/content/drive\", force_remount=True).\n",
            "Sun May  8 19:33:51 2022       \n",
            "+-----------------------------------------------------------------------------+\n",
            "| NVIDIA-SMI 460.32.03    Driver Version: 460.32.03    CUDA Version: 11.2     |\n",
            "|-------------------------------+----------------------+----------------------+\n",
            "| GPU  Name        Persistence-M| Bus-Id        Disp.A | Volatile Uncorr. ECC |\n",
            "| Fan  Temp  Perf  Pwr:Usage/Cap|         Memory-Usage | GPU-Util  Compute M. |\n",
            "|                               |                      |               MIG M. |\n",
            "|===============================+======================+======================|\n",
            "|   0  Tesla T4            Off  | 00000000:00:04.0 Off |                    0 |\n",
            "| N/A   33C    P8     9W /  70W |      0MiB / 15109MiB |      0%      Default |\n",
            "|                               |                      |                  N/A |\n",
            "+-------------------------------+----------------------+----------------------+\n",
            "                                                                               \n",
            "+-----------------------------------------------------------------------------+\n",
            "| Processes:                                                                  |\n",
            "|  GPU   GI   CI        PID   Type   Process name                  GPU Memory |\n",
            "|        ID   ID                                                   Usage      |\n",
            "|=============================================================================|\n",
            "|  No running processes found                                                 |\n",
            "+-----------------------------------------------------------------------------+\n"
          ]
        }
      ],
      "source": [
        "from google.colab import drive\n",
        "drive.mount('/content/drive')"
      ]
    },
    {
      "cell_type": "code",
      "execution_count": null,
      "metadata": {
        "id": "DgSvrBJxmbii"
      },
      "outputs": [],
      "source": [
        "import pandas as pd\n",
        "import numpy as np\n",
        "import matplotlib.pyplot as plt \n",
        "from wordcloud import WordCloud\n",
        "import contractions\n",
        "import nltk\n",
        "import string\n",
        "from sklearn.feature_extraction.text import CountVectorizer\n",
        "from sklearn.feature_extraction.text import TfidfVectorizer\n",
        "from tensorflow import keras\n",
        "import tensorflow as tf\n",
        "\n",
        "from tensorflow.keras.layers import Embedding\n",
        "from tensorflow.keras.preprocessing.sequence import pad_sequences\n",
        "from tensorflow.keras.models import Sequential\n",
        "from tensorflow.keras.preprocessing.text import one_hot\n",
        "from tensorflow.keras.layers import LSTM\n",
        "from tensorflow.keras.layers import Dense\n",
        "import re"
      ]
    },
    {
      "cell_type": "code",
      "execution_count": null,
      "metadata": {
        "id": "QjPQcnXX86X_"
      },
      "outputs": [],
      "source": [
        "\"\"\"\n",
        "Getting information about dataset\n",
        "\"\"\"\n",
        "cyble_data=pd.read_csv('/content/drive/MyDrive/NLP_dataset/dataset_2_2.csv')\n"
      ]
    },
    {
      "cell_type": "code",
      "execution_count": null,
      "metadata": {
        "colab": {
          "base_uri": "https://localhost:8080/",
          "height": 333
        },
        "id": "xmlfv1fj871G",
        "outputId": "4cbeb468-95ab-45ac-e751-9fff085828b5"
      },
      "outputs": [
        {
          "output_type": "execute_result",
          "data": {
            "text/plain": [
              "   Unnamed: 0 Location                                               Text  \\\n",
              "0           0  NewYork  Woke criminal New York Times brings back Covid...   \n",
              "1           1  NewYork  He proven New York liberal narcissist hired wo...   \n",
              "2           2  NewYork  CBS2 News At 11 New York leader say mask vacci...   \n",
              "3           3  NewYork                   Pediatric COVID Deaths New York    \n",
              "4           4  NewYork  The 7 day rolling average new Covid hospitaliz...   \n",
              "\n",
              "  Sentiment  Likes  quotes  replies  retweet  \n",
              "0  Negative    1.0     0.0      1.0      0.0  \n",
              "1  Negative    1.0     0.0      0.0      0.0  \n",
              "2   Neutral    5.0     0.0      0.0      3.0  \n",
              "3   Neutral    3.0     0.0      0.0      1.0  \n",
              "4  Negative    2.0     0.0      0.0      0.0  "
            ],
            "text/html": [
              "\n",
              "  <div id=\"df-913b6276-a211-4ec4-b50c-3d72a84a77d6\">\n",
              "    <div class=\"colab-df-container\">\n",
              "      <div>\n",
              "<style scoped>\n",
              "    .dataframe tbody tr th:only-of-type {\n",
              "        vertical-align: middle;\n",
              "    }\n",
              "\n",
              "    .dataframe tbody tr th {\n",
              "        vertical-align: top;\n",
              "    }\n",
              "\n",
              "    .dataframe thead th {\n",
              "        text-align: right;\n",
              "    }\n",
              "</style>\n",
              "<table border=\"1\" class=\"dataframe\">\n",
              "  <thead>\n",
              "    <tr style=\"text-align: right;\">\n",
              "      <th></th>\n",
              "      <th>Unnamed: 0</th>\n",
              "      <th>Location</th>\n",
              "      <th>Text</th>\n",
              "      <th>Sentiment</th>\n",
              "      <th>Likes</th>\n",
              "      <th>quotes</th>\n",
              "      <th>replies</th>\n",
              "      <th>retweet</th>\n",
              "    </tr>\n",
              "  </thead>\n",
              "  <tbody>\n",
              "    <tr>\n",
              "      <th>0</th>\n",
              "      <td>0</td>\n",
              "      <td>NewYork</td>\n",
              "      <td>Woke criminal New York Times brings back Covid...</td>\n",
              "      <td>Negative</td>\n",
              "      <td>1.0</td>\n",
              "      <td>0.0</td>\n",
              "      <td>1.0</td>\n",
              "      <td>0.0</td>\n",
              "    </tr>\n",
              "    <tr>\n",
              "      <th>1</th>\n",
              "      <td>1</td>\n",
              "      <td>NewYork</td>\n",
              "      <td>He proven New York liberal narcissist hired wo...</td>\n",
              "      <td>Negative</td>\n",
              "      <td>1.0</td>\n",
              "      <td>0.0</td>\n",
              "      <td>0.0</td>\n",
              "      <td>0.0</td>\n",
              "    </tr>\n",
              "    <tr>\n",
              "      <th>2</th>\n",
              "      <td>2</td>\n",
              "      <td>NewYork</td>\n",
              "      <td>CBS2 News At 11 New York leader say mask vacci...</td>\n",
              "      <td>Neutral</td>\n",
              "      <td>5.0</td>\n",
              "      <td>0.0</td>\n",
              "      <td>0.0</td>\n",
              "      <td>3.0</td>\n",
              "    </tr>\n",
              "    <tr>\n",
              "      <th>3</th>\n",
              "      <td>3</td>\n",
              "      <td>NewYork</td>\n",
              "      <td>Pediatric COVID Deaths New York</td>\n",
              "      <td>Neutral</td>\n",
              "      <td>3.0</td>\n",
              "      <td>0.0</td>\n",
              "      <td>0.0</td>\n",
              "      <td>1.0</td>\n",
              "    </tr>\n",
              "    <tr>\n",
              "      <th>4</th>\n",
              "      <td>4</td>\n",
              "      <td>NewYork</td>\n",
              "      <td>The 7 day rolling average new Covid hospitaliz...</td>\n",
              "      <td>Negative</td>\n",
              "      <td>2.0</td>\n",
              "      <td>0.0</td>\n",
              "      <td>0.0</td>\n",
              "      <td>0.0</td>\n",
              "    </tr>\n",
              "  </tbody>\n",
              "</table>\n",
              "</div>\n",
              "      <button class=\"colab-df-convert\" onclick=\"convertToInteractive('df-913b6276-a211-4ec4-b50c-3d72a84a77d6')\"\n",
              "              title=\"Convert this dataframe to an interactive table.\"\n",
              "              style=\"display:none;\">\n",
              "        \n",
              "  <svg xmlns=\"http://www.w3.org/2000/svg\" height=\"24px\"viewBox=\"0 0 24 24\"\n",
              "       width=\"24px\">\n",
              "    <path d=\"M0 0h24v24H0V0z\" fill=\"none\"/>\n",
              "    <path d=\"M18.56 5.44l.94 2.06.94-2.06 2.06-.94-2.06-.94-.94-2.06-.94 2.06-2.06.94zm-11 1L8.5 8.5l.94-2.06 2.06-.94-2.06-.94L8.5 2.5l-.94 2.06-2.06.94zm10 10l.94 2.06.94-2.06 2.06-.94-2.06-.94-.94-2.06-.94 2.06-2.06.94z\"/><path d=\"M17.41 7.96l-1.37-1.37c-.4-.4-.92-.59-1.43-.59-.52 0-1.04.2-1.43.59L10.3 9.45l-7.72 7.72c-.78.78-.78 2.05 0 2.83L4 21.41c.39.39.9.59 1.41.59.51 0 1.02-.2 1.41-.59l7.78-7.78 2.81-2.81c.8-.78.8-2.07 0-2.86zM5.41 20L4 18.59l7.72-7.72 1.47 1.35L5.41 20z\"/>\n",
              "  </svg>\n",
              "      </button>\n",
              "      \n",
              "  <style>\n",
              "    .colab-df-container {\n",
              "      display:flex;\n",
              "      flex-wrap:wrap;\n",
              "      gap: 12px;\n",
              "    }\n",
              "\n",
              "    .colab-df-convert {\n",
              "      background-color: #E8F0FE;\n",
              "      border: none;\n",
              "      border-radius: 50%;\n",
              "      cursor: pointer;\n",
              "      display: none;\n",
              "      fill: #1967D2;\n",
              "      height: 32px;\n",
              "      padding: 0 0 0 0;\n",
              "      width: 32px;\n",
              "    }\n",
              "\n",
              "    .colab-df-convert:hover {\n",
              "      background-color: #E2EBFA;\n",
              "      box-shadow: 0px 1px 2px rgba(60, 64, 67, 0.3), 0px 1px 3px 1px rgba(60, 64, 67, 0.15);\n",
              "      fill: #174EA6;\n",
              "    }\n",
              "\n",
              "    [theme=dark] .colab-df-convert {\n",
              "      background-color: #3B4455;\n",
              "      fill: #D2E3FC;\n",
              "    }\n",
              "\n",
              "    [theme=dark] .colab-df-convert:hover {\n",
              "      background-color: #434B5C;\n",
              "      box-shadow: 0px 1px 3px 1px rgba(0, 0, 0, 0.15);\n",
              "      filter: drop-shadow(0px 1px 2px rgba(0, 0, 0, 0.3));\n",
              "      fill: #FFFFFF;\n",
              "    }\n",
              "  </style>\n",
              "\n",
              "      <script>\n",
              "        const buttonEl =\n",
              "          document.querySelector('#df-913b6276-a211-4ec4-b50c-3d72a84a77d6 button.colab-df-convert');\n",
              "        buttonEl.style.display =\n",
              "          google.colab.kernel.accessAllowed ? 'block' : 'none';\n",
              "\n",
              "        async function convertToInteractive(key) {\n",
              "          const element = document.querySelector('#df-913b6276-a211-4ec4-b50c-3d72a84a77d6');\n",
              "          const dataTable =\n",
              "            await google.colab.kernel.invokeFunction('convertToInteractive',\n",
              "                                                     [key], {});\n",
              "          if (!dataTable) return;\n",
              "\n",
              "          const docLinkHtml = 'Like what you see? Visit the ' +\n",
              "            '<a target=\"_blank\" href=https://colab.research.google.com/notebooks/data_table.ipynb>data table notebook</a>'\n",
              "            + ' to learn more about interactive tables.';\n",
              "          element.innerHTML = '';\n",
              "          dataTable['output_type'] = 'display_data';\n",
              "          await google.colab.output.renderOutput(dataTable, element);\n",
              "          const docLink = document.createElement('div');\n",
              "          docLink.innerHTML = docLinkHtml;\n",
              "          element.appendChild(docLink);\n",
              "        }\n",
              "      </script>\n",
              "    </div>\n",
              "  </div>\n",
              "  "
            ]
          },
          "metadata": {},
          "execution_count": 75
        }
      ],
      "source": [
        "cyble_data.head()"
      ]
    },
    {
      "cell_type": "code",
      "execution_count": null,
      "metadata": {
        "colab": {
          "base_uri": "https://localhost:8080/",
          "height": 204
        },
        "id": "FfK0bdltzvjO",
        "outputId": "d581e4f9-db36-40a7-d0fe-613e252457e0"
      },
      "outputs": [
        {
          "output_type": "execute_result",
          "data": {
            "text/plain": [
              "  Location                                               Text Sentiment\n",
              "0  NewYork  Woke criminal New York Times brings back Covid...  Negative\n",
              "1  NewYork  He proven New York liberal narcissist hired wo...  Negative\n",
              "2  NewYork  CBS2 News At 11 New York leader say mask vacci...   Neutral\n",
              "3  NewYork                   Pediatric COVID Deaths New York    Neutral\n",
              "4  NewYork  The 7 day rolling average new Covid hospitaliz...  Negative"
            ],
            "text/html": [
              "\n",
              "  <div id=\"df-1eec036e-e578-4a35-a21f-c222e7654f0f\">\n",
              "    <div class=\"colab-df-container\">\n",
              "      <div>\n",
              "<style scoped>\n",
              "    .dataframe tbody tr th:only-of-type {\n",
              "        vertical-align: middle;\n",
              "    }\n",
              "\n",
              "    .dataframe tbody tr th {\n",
              "        vertical-align: top;\n",
              "    }\n",
              "\n",
              "    .dataframe thead th {\n",
              "        text-align: right;\n",
              "    }\n",
              "</style>\n",
              "<table border=\"1\" class=\"dataframe\">\n",
              "  <thead>\n",
              "    <tr style=\"text-align: right;\">\n",
              "      <th></th>\n",
              "      <th>Location</th>\n",
              "      <th>Text</th>\n",
              "      <th>Sentiment</th>\n",
              "    </tr>\n",
              "  </thead>\n",
              "  <tbody>\n",
              "    <tr>\n",
              "      <th>0</th>\n",
              "      <td>NewYork</td>\n",
              "      <td>Woke criminal New York Times brings back Covid...</td>\n",
              "      <td>Negative</td>\n",
              "    </tr>\n",
              "    <tr>\n",
              "      <th>1</th>\n",
              "      <td>NewYork</td>\n",
              "      <td>He proven New York liberal narcissist hired wo...</td>\n",
              "      <td>Negative</td>\n",
              "    </tr>\n",
              "    <tr>\n",
              "      <th>2</th>\n",
              "      <td>NewYork</td>\n",
              "      <td>CBS2 News At 11 New York leader say mask vacci...</td>\n",
              "      <td>Neutral</td>\n",
              "    </tr>\n",
              "    <tr>\n",
              "      <th>3</th>\n",
              "      <td>NewYork</td>\n",
              "      <td>Pediatric COVID Deaths New York</td>\n",
              "      <td>Neutral</td>\n",
              "    </tr>\n",
              "    <tr>\n",
              "      <th>4</th>\n",
              "      <td>NewYork</td>\n",
              "      <td>The 7 day rolling average new Covid hospitaliz...</td>\n",
              "      <td>Negative</td>\n",
              "    </tr>\n",
              "  </tbody>\n",
              "</table>\n",
              "</div>\n",
              "      <button class=\"colab-df-convert\" onclick=\"convertToInteractive('df-1eec036e-e578-4a35-a21f-c222e7654f0f')\"\n",
              "              title=\"Convert this dataframe to an interactive table.\"\n",
              "              style=\"display:none;\">\n",
              "        \n",
              "  <svg xmlns=\"http://www.w3.org/2000/svg\" height=\"24px\"viewBox=\"0 0 24 24\"\n",
              "       width=\"24px\">\n",
              "    <path d=\"M0 0h24v24H0V0z\" fill=\"none\"/>\n",
              "    <path d=\"M18.56 5.44l.94 2.06.94-2.06 2.06-.94-2.06-.94-.94-2.06-.94 2.06-2.06.94zm-11 1L8.5 8.5l.94-2.06 2.06-.94-2.06-.94L8.5 2.5l-.94 2.06-2.06.94zm10 10l.94 2.06.94-2.06 2.06-.94-2.06-.94-.94-2.06-.94 2.06-2.06.94z\"/><path d=\"M17.41 7.96l-1.37-1.37c-.4-.4-.92-.59-1.43-.59-.52 0-1.04.2-1.43.59L10.3 9.45l-7.72 7.72c-.78.78-.78 2.05 0 2.83L4 21.41c.39.39.9.59 1.41.59.51 0 1.02-.2 1.41-.59l7.78-7.78 2.81-2.81c.8-.78.8-2.07 0-2.86zM5.41 20L4 18.59l7.72-7.72 1.47 1.35L5.41 20z\"/>\n",
              "  </svg>\n",
              "      </button>\n",
              "      \n",
              "  <style>\n",
              "    .colab-df-container {\n",
              "      display:flex;\n",
              "      flex-wrap:wrap;\n",
              "      gap: 12px;\n",
              "    }\n",
              "\n",
              "    .colab-df-convert {\n",
              "      background-color: #E8F0FE;\n",
              "      border: none;\n",
              "      border-radius: 50%;\n",
              "      cursor: pointer;\n",
              "      display: none;\n",
              "      fill: #1967D2;\n",
              "      height: 32px;\n",
              "      padding: 0 0 0 0;\n",
              "      width: 32px;\n",
              "    }\n",
              "\n",
              "    .colab-df-convert:hover {\n",
              "      background-color: #E2EBFA;\n",
              "      box-shadow: 0px 1px 2px rgba(60, 64, 67, 0.3), 0px 1px 3px 1px rgba(60, 64, 67, 0.15);\n",
              "      fill: #174EA6;\n",
              "    }\n",
              "\n",
              "    [theme=dark] .colab-df-convert {\n",
              "      background-color: #3B4455;\n",
              "      fill: #D2E3FC;\n",
              "    }\n",
              "\n",
              "    [theme=dark] .colab-df-convert:hover {\n",
              "      background-color: #434B5C;\n",
              "      box-shadow: 0px 1px 3px 1px rgba(0, 0, 0, 0.15);\n",
              "      filter: drop-shadow(0px 1px 2px rgba(0, 0, 0, 0.3));\n",
              "      fill: #FFFFFF;\n",
              "    }\n",
              "  </style>\n",
              "\n",
              "      <script>\n",
              "        const buttonEl =\n",
              "          document.querySelector('#df-1eec036e-e578-4a35-a21f-c222e7654f0f button.colab-df-convert');\n",
              "        buttonEl.style.display =\n",
              "          google.colab.kernel.accessAllowed ? 'block' : 'none';\n",
              "\n",
              "        async function convertToInteractive(key) {\n",
              "          const element = document.querySelector('#df-1eec036e-e578-4a35-a21f-c222e7654f0f');\n",
              "          const dataTable =\n",
              "            await google.colab.kernel.invokeFunction('convertToInteractive',\n",
              "                                                     [key], {});\n",
              "          if (!dataTable) return;\n",
              "\n",
              "          const docLinkHtml = 'Like what you see? Visit the ' +\n",
              "            '<a target=\"_blank\" href=https://colab.research.google.com/notebooks/data_table.ipynb>data table notebook</a>'\n",
              "            + ' to learn more about interactive tables.';\n",
              "          element.innerHTML = '';\n",
              "          dataTable['output_type'] = 'display_data';\n",
              "          await google.colab.output.renderOutput(dataTable, element);\n",
              "          const docLink = document.createElement('div');\n",
              "          docLink.innerHTML = docLinkHtml;\n",
              "          element.appendChild(docLink);\n",
              "        }\n",
              "      </script>\n",
              "    </div>\n",
              "  </div>\n",
              "  "
            ]
          },
          "metadata": {},
          "execution_count": 76
        }
      ],
      "source": [
        "cyble_data=cyble_data[['Location', 'Text', 'Sentiment']]\n",
        "cyble_data.head()"
      ]
    },
    {
      "cell_type": "code",
      "execution_count": null,
      "metadata": {
        "colab": {
          "base_uri": "https://localhost:8080/",
          "height": 204
        },
        "id": "z-V73ICNzy35",
        "outputId": "2c70a580-0292-4584-d59a-c1b3293132e6"
      },
      "outputs": [
        {
          "output_type": "execute_result",
          "data": {
            "text/plain": [
              "  Location                                               Text   Section\n",
              "0  NewYork  Woke criminal New York Times brings back Covid...  Negative\n",
              "1  NewYork  He proven New York liberal narcissist hired wo...  Negative\n",
              "2  NewYork  CBS2 News At 11 New York leader say mask vacci...   Neutral\n",
              "3  NewYork                   Pediatric COVID Deaths New York    Neutral\n",
              "4  NewYork  The 7 day rolling average new Covid hospitaliz...  Negative"
            ],
            "text/html": [
              "\n",
              "  <div id=\"df-d5d41d4b-ccee-4aad-8027-0ee0113ce0a4\">\n",
              "    <div class=\"colab-df-container\">\n",
              "      <div>\n",
              "<style scoped>\n",
              "    .dataframe tbody tr th:only-of-type {\n",
              "        vertical-align: middle;\n",
              "    }\n",
              "\n",
              "    .dataframe tbody tr th {\n",
              "        vertical-align: top;\n",
              "    }\n",
              "\n",
              "    .dataframe thead th {\n",
              "        text-align: right;\n",
              "    }\n",
              "</style>\n",
              "<table border=\"1\" class=\"dataframe\">\n",
              "  <thead>\n",
              "    <tr style=\"text-align: right;\">\n",
              "      <th></th>\n",
              "      <th>Location</th>\n",
              "      <th>Text</th>\n",
              "      <th>Section</th>\n",
              "    </tr>\n",
              "  </thead>\n",
              "  <tbody>\n",
              "    <tr>\n",
              "      <th>0</th>\n",
              "      <td>NewYork</td>\n",
              "      <td>Woke criminal New York Times brings back Covid...</td>\n",
              "      <td>Negative</td>\n",
              "    </tr>\n",
              "    <tr>\n",
              "      <th>1</th>\n",
              "      <td>NewYork</td>\n",
              "      <td>He proven New York liberal narcissist hired wo...</td>\n",
              "      <td>Negative</td>\n",
              "    </tr>\n",
              "    <tr>\n",
              "      <th>2</th>\n",
              "      <td>NewYork</td>\n",
              "      <td>CBS2 News At 11 New York leader say mask vacci...</td>\n",
              "      <td>Neutral</td>\n",
              "    </tr>\n",
              "    <tr>\n",
              "      <th>3</th>\n",
              "      <td>NewYork</td>\n",
              "      <td>Pediatric COVID Deaths New York</td>\n",
              "      <td>Neutral</td>\n",
              "    </tr>\n",
              "    <tr>\n",
              "      <th>4</th>\n",
              "      <td>NewYork</td>\n",
              "      <td>The 7 day rolling average new Covid hospitaliz...</td>\n",
              "      <td>Negative</td>\n",
              "    </tr>\n",
              "  </tbody>\n",
              "</table>\n",
              "</div>\n",
              "      <button class=\"colab-df-convert\" onclick=\"convertToInteractive('df-d5d41d4b-ccee-4aad-8027-0ee0113ce0a4')\"\n",
              "              title=\"Convert this dataframe to an interactive table.\"\n",
              "              style=\"display:none;\">\n",
              "        \n",
              "  <svg xmlns=\"http://www.w3.org/2000/svg\" height=\"24px\"viewBox=\"0 0 24 24\"\n",
              "       width=\"24px\">\n",
              "    <path d=\"M0 0h24v24H0V0z\" fill=\"none\"/>\n",
              "    <path d=\"M18.56 5.44l.94 2.06.94-2.06 2.06-.94-2.06-.94-.94-2.06-.94 2.06-2.06.94zm-11 1L8.5 8.5l.94-2.06 2.06-.94-2.06-.94L8.5 2.5l-.94 2.06-2.06.94zm10 10l.94 2.06.94-2.06 2.06-.94-2.06-.94-.94-2.06-.94 2.06-2.06.94z\"/><path d=\"M17.41 7.96l-1.37-1.37c-.4-.4-.92-.59-1.43-.59-.52 0-1.04.2-1.43.59L10.3 9.45l-7.72 7.72c-.78.78-.78 2.05 0 2.83L4 21.41c.39.39.9.59 1.41.59.51 0 1.02-.2 1.41-.59l7.78-7.78 2.81-2.81c.8-.78.8-2.07 0-2.86zM5.41 20L4 18.59l7.72-7.72 1.47 1.35L5.41 20z\"/>\n",
              "  </svg>\n",
              "      </button>\n",
              "      \n",
              "  <style>\n",
              "    .colab-df-container {\n",
              "      display:flex;\n",
              "      flex-wrap:wrap;\n",
              "      gap: 12px;\n",
              "    }\n",
              "\n",
              "    .colab-df-convert {\n",
              "      background-color: #E8F0FE;\n",
              "      border: none;\n",
              "      border-radius: 50%;\n",
              "      cursor: pointer;\n",
              "      display: none;\n",
              "      fill: #1967D2;\n",
              "      height: 32px;\n",
              "      padding: 0 0 0 0;\n",
              "      width: 32px;\n",
              "    }\n",
              "\n",
              "    .colab-df-convert:hover {\n",
              "      background-color: #E2EBFA;\n",
              "      box-shadow: 0px 1px 2px rgba(60, 64, 67, 0.3), 0px 1px 3px 1px rgba(60, 64, 67, 0.15);\n",
              "      fill: #174EA6;\n",
              "    }\n",
              "\n",
              "    [theme=dark] .colab-df-convert {\n",
              "      background-color: #3B4455;\n",
              "      fill: #D2E3FC;\n",
              "    }\n",
              "\n",
              "    [theme=dark] .colab-df-convert:hover {\n",
              "      background-color: #434B5C;\n",
              "      box-shadow: 0px 1px 3px 1px rgba(0, 0, 0, 0.15);\n",
              "      filter: drop-shadow(0px 1px 2px rgba(0, 0, 0, 0.3));\n",
              "      fill: #FFFFFF;\n",
              "    }\n",
              "  </style>\n",
              "\n",
              "      <script>\n",
              "        const buttonEl =\n",
              "          document.querySelector('#df-d5d41d4b-ccee-4aad-8027-0ee0113ce0a4 button.colab-df-convert');\n",
              "        buttonEl.style.display =\n",
              "          google.colab.kernel.accessAllowed ? 'block' : 'none';\n",
              "\n",
              "        async function convertToInteractive(key) {\n",
              "          const element = document.querySelector('#df-d5d41d4b-ccee-4aad-8027-0ee0113ce0a4');\n",
              "          const dataTable =\n",
              "            await google.colab.kernel.invokeFunction('convertToInteractive',\n",
              "                                                     [key], {});\n",
              "          if (!dataTable) return;\n",
              "\n",
              "          const docLinkHtml = 'Like what you see? Visit the ' +\n",
              "            '<a target=\"_blank\" href=https://colab.research.google.com/notebooks/data_table.ipynb>data table notebook</a>'\n",
              "            + ' to learn more about interactive tables.';\n",
              "          element.innerHTML = '';\n",
              "          dataTable['output_type'] = 'display_data';\n",
              "          await google.colab.output.renderOutput(dataTable, element);\n",
              "          const docLink = document.createElement('div');\n",
              "          docLink.innerHTML = docLinkHtml;\n",
              "          element.appendChild(docLink);\n",
              "        }\n",
              "      </script>\n",
              "    </div>\n",
              "  </div>\n",
              "  "
            ]
          },
          "metadata": {},
          "execution_count": 77
        }
      ],
      "source": [
        "cyble_data = cyble_data.rename(columns={'Sentiment': 'Section'})\n",
        "cyble_data.head()"
      ]
    },
    {
      "cell_type": "code",
      "execution_count": null,
      "metadata": {
        "colab": {
          "base_uri": "https://localhost:8080/"
        },
        "id": "IUIXHP1Ez1sO",
        "outputId": "5e115b49-aa3c-43c5-c207-552b44277619"
      },
      "outputs": [
        {
          "output_type": "execute_result",
          "data": {
            "text/plain": [
              "Singapore       47340\n",
              "London          47194\n",
              "Mumbai          46537\n",
              "NewYork         46489\n",
              "Paris           45634\n",
              "Sydney          44527\n",
              "Berlin          44465\n",
              "Tokyo           42635\n",
              "Johannesburg    24782\n",
              "Name: Location, dtype: int64"
            ]
          },
          "metadata": {},
          "execution_count": 78
        }
      ],
      "source": [
        "cyble_data['Location'].value_counts()"
      ]
    },
    {
      "cell_type": "code",
      "execution_count": null,
      "metadata": {
        "colab": {
          "base_uri": "https://localhost:8080/",
          "height": 204
        },
        "id": "pUO4ec3-z2Tq",
        "outputId": "d0bcbeb2-2f95-4756-8487-c6e750003615"
      },
      "outputs": [
        {
          "output_type": "execute_result",
          "data": {
            "text/plain": [
              "            Location                                               Text  \\\n",
              "23395         London  It always obvious got covid A bit tired achy A...   \n",
              "320734         Tokyo  Pfizer expects 54 billion 2022 sale Covid vacc...   \n",
              "20968         London  Leonard Barden chess Carlsen overcomes Covid R...   \n",
              "22522         London  Did wear one Covid stop flu cold transmission ...   \n",
              "329211  Johannesburg          damn girl catalytic converter want steal    \n",
              "\n",
              "         Section  \n",
              "23395   Negative  \n",
              "320734   Neutral  \n",
              "20968    Neutral  \n",
              "22522   Negative  \n",
              "329211  Negative  "
            ],
            "text/html": [
              "\n",
              "  <div id=\"df-1e051be8-463d-4537-bdc1-e9efca36c0f5\">\n",
              "    <div class=\"colab-df-container\">\n",
              "      <div>\n",
              "<style scoped>\n",
              "    .dataframe tbody tr th:only-of-type {\n",
              "        vertical-align: middle;\n",
              "    }\n",
              "\n",
              "    .dataframe tbody tr th {\n",
              "        vertical-align: top;\n",
              "    }\n",
              "\n",
              "    .dataframe thead th {\n",
              "        text-align: right;\n",
              "    }\n",
              "</style>\n",
              "<table border=\"1\" class=\"dataframe\">\n",
              "  <thead>\n",
              "    <tr style=\"text-align: right;\">\n",
              "      <th></th>\n",
              "      <th>Location</th>\n",
              "      <th>Text</th>\n",
              "      <th>Section</th>\n",
              "    </tr>\n",
              "  </thead>\n",
              "  <tbody>\n",
              "    <tr>\n",
              "      <th>23395</th>\n",
              "      <td>London</td>\n",
              "      <td>It always obvious got covid A bit tired achy A...</td>\n",
              "      <td>Negative</td>\n",
              "    </tr>\n",
              "    <tr>\n",
              "      <th>320734</th>\n",
              "      <td>Tokyo</td>\n",
              "      <td>Pfizer expects 54 billion 2022 sale Covid vacc...</td>\n",
              "      <td>Neutral</td>\n",
              "    </tr>\n",
              "    <tr>\n",
              "      <th>20968</th>\n",
              "      <td>London</td>\n",
              "      <td>Leonard Barden chess Carlsen overcomes Covid R...</td>\n",
              "      <td>Neutral</td>\n",
              "    </tr>\n",
              "    <tr>\n",
              "      <th>22522</th>\n",
              "      <td>London</td>\n",
              "      <td>Did wear one Covid stop flu cold transmission ...</td>\n",
              "      <td>Negative</td>\n",
              "    </tr>\n",
              "    <tr>\n",
              "      <th>329211</th>\n",
              "      <td>Johannesburg</td>\n",
              "      <td>damn girl catalytic converter want steal</td>\n",
              "      <td>Negative</td>\n",
              "    </tr>\n",
              "  </tbody>\n",
              "</table>\n",
              "</div>\n",
              "      <button class=\"colab-df-convert\" onclick=\"convertToInteractive('df-1e051be8-463d-4537-bdc1-e9efca36c0f5')\"\n",
              "              title=\"Convert this dataframe to an interactive table.\"\n",
              "              style=\"display:none;\">\n",
              "        \n",
              "  <svg xmlns=\"http://www.w3.org/2000/svg\" height=\"24px\"viewBox=\"0 0 24 24\"\n",
              "       width=\"24px\">\n",
              "    <path d=\"M0 0h24v24H0V0z\" fill=\"none\"/>\n",
              "    <path d=\"M18.56 5.44l.94 2.06.94-2.06 2.06-.94-2.06-.94-.94-2.06-.94 2.06-2.06.94zm-11 1L8.5 8.5l.94-2.06 2.06-.94-2.06-.94L8.5 2.5l-.94 2.06-2.06.94zm10 10l.94 2.06.94-2.06 2.06-.94-2.06-.94-.94-2.06-.94 2.06-2.06.94z\"/><path d=\"M17.41 7.96l-1.37-1.37c-.4-.4-.92-.59-1.43-.59-.52 0-1.04.2-1.43.59L10.3 9.45l-7.72 7.72c-.78.78-.78 2.05 0 2.83L4 21.41c.39.39.9.59 1.41.59.51 0 1.02-.2 1.41-.59l7.78-7.78 2.81-2.81c.8-.78.8-2.07 0-2.86zM5.41 20L4 18.59l7.72-7.72 1.47 1.35L5.41 20z\"/>\n",
              "  </svg>\n",
              "      </button>\n",
              "      \n",
              "  <style>\n",
              "    .colab-df-container {\n",
              "      display:flex;\n",
              "      flex-wrap:wrap;\n",
              "      gap: 12px;\n",
              "    }\n",
              "\n",
              "    .colab-df-convert {\n",
              "      background-color: #E8F0FE;\n",
              "      border: none;\n",
              "      border-radius: 50%;\n",
              "      cursor: pointer;\n",
              "      display: none;\n",
              "      fill: #1967D2;\n",
              "      height: 32px;\n",
              "      padding: 0 0 0 0;\n",
              "      width: 32px;\n",
              "    }\n",
              "\n",
              "    .colab-df-convert:hover {\n",
              "      background-color: #E2EBFA;\n",
              "      box-shadow: 0px 1px 2px rgba(60, 64, 67, 0.3), 0px 1px 3px 1px rgba(60, 64, 67, 0.15);\n",
              "      fill: #174EA6;\n",
              "    }\n",
              "\n",
              "    [theme=dark] .colab-df-convert {\n",
              "      background-color: #3B4455;\n",
              "      fill: #D2E3FC;\n",
              "    }\n",
              "\n",
              "    [theme=dark] .colab-df-convert:hover {\n",
              "      background-color: #434B5C;\n",
              "      box-shadow: 0px 1px 3px 1px rgba(0, 0, 0, 0.15);\n",
              "      filter: drop-shadow(0px 1px 2px rgba(0, 0, 0, 0.3));\n",
              "      fill: #FFFFFF;\n",
              "    }\n",
              "  </style>\n",
              "\n",
              "      <script>\n",
              "        const buttonEl =\n",
              "          document.querySelector('#df-1e051be8-463d-4537-bdc1-e9efca36c0f5 button.colab-df-convert');\n",
              "        buttonEl.style.display =\n",
              "          google.colab.kernel.accessAllowed ? 'block' : 'none';\n",
              "\n",
              "        async function convertToInteractive(key) {\n",
              "          const element = document.querySelector('#df-1e051be8-463d-4537-bdc1-e9efca36c0f5');\n",
              "          const dataTable =\n",
              "            await google.colab.kernel.invokeFunction('convertToInteractive',\n",
              "                                                     [key], {});\n",
              "          if (!dataTable) return;\n",
              "\n",
              "          const docLinkHtml = 'Like what you see? Visit the ' +\n",
              "            '<a target=\"_blank\" href=https://colab.research.google.com/notebooks/data_table.ipynb>data table notebook</a>'\n",
              "            + ' to learn more about interactive tables.';\n",
              "          element.innerHTML = '';\n",
              "          dataTable['output_type'] = 'display_data';\n",
              "          await google.colab.output.renderOutput(dataTable, element);\n",
              "          const docLink = document.createElement('div');\n",
              "          docLink.innerHTML = docLinkHtml;\n",
              "          element.appendChild(docLink);\n",
              "        }\n",
              "      </script>\n",
              "    </div>\n",
              "  </div>\n",
              "  "
            ]
          },
          "metadata": {},
          "execution_count": 79
        }
      ],
      "source": [
        "cyble_data=cyble_data.sample(frac=1)\n",
        "cyble_data.head()"
      ]
    },
    {
      "cell_type": "code",
      "execution_count": null,
      "metadata": {
        "id": "37L8SVAxz4qV"
      },
      "outputs": [],
      "source": [
        "\"\"\"\n",
        "Dataset Visual analysis\n",
        "\"\"\"\n",
        "sentiment_count=cyble_data['Section'].value_counts()\n",
        "plt.pie(sentiment_count, labels=sentiment_count.index,\n",
        "        autopct='%1.1f%%', shadow=True, startangle=140)\n",
        "plt.show()\n",
        "\n",
        "sentiment_list=dict(cyble_data['Section'].value_counts())\n",
        "\n",
        "\"\"\"\n",
        "Building Wordcloud\n",
        "\n",
        "for key in sentiment_list:\n",
        "    distinct_sentiment=cyble_data[cyble_data['Section']==key]\n",
        "    text1= \" \".join(text.lower() for text in distinct_sentiment['Text'])\n",
        "    wordcloud=WordCloud().generate(text1)\n",
        "    plt.imshow(wordcloud, interpolation='bilinear')\n",
        "    plt.axis('off')\n",
        "    plt.show()\n",
        "\n",
        "\"\"\""
      ]
    },
    {
      "cell_type": "code",
      "execution_count": null,
      "metadata": {
        "colab": {
          "base_uri": "https://localhost:8080/"
        },
        "id": "lnV2DKh5z6xG",
        "outputId": "a05153c5-39f5-4f7d-d17c-925cdd64fe2a"
      },
      "outputs": [
        {
          "output_type": "stream",
          "name": "stdout",
          "text": [
            "[nltk_data] Downloading package punkt to /root/nltk_data...\n",
            "[nltk_data]   Package punkt is already up-to-date!\n",
            "[nltk_data] Downloading package stopwords to /root/nltk_data...\n",
            "[nltk_data]   Package stopwords is already up-to-date!\n"
          ]
        }
      ],
      "source": [
        "#text contraction\n",
        "\"\"\"\n",
        "text contraction means that changing don't to donot etc.'\n",
        "\"\"\"\n",
        "cyble_data=cyble_data.apply(lambda x: x.astype(str).str.lower())\n",
        "\n",
        "cyble_data=cyble_data.reset_index(drop=True)\n",
        "\n",
        "\n",
        "cyble_data['Text']=cyble_data['Text'].apply(contractions.fix)    \n",
        "\n",
        "\"\"\"\n",
        "Text Tokenization\n",
        "\"\"\"\n",
        "from nltk import word_tokenize\n",
        "from textblob import TextBlob\n",
        "nltk.download('punkt')\n",
        "from nltk.corpus import stopwords\n",
        "nltk.download('stopwords')\n",
        "\n",
        "stop_words=set(stopwords.words('english'))\n",
        "\n",
        "\n",
        "\n",
        "def tokenize_text(text,\n",
        "                  keep_punctuation=False,\n",
        "                   keep_alphanum=False,\n",
        "                  keep_stop=False\n",
        "                  ):\n",
        "    \n",
        "    tokenized_list=TextBlob(text)\n",
        "    tokenized_list=tokenized_list.words\n",
        "    \n",
        "    if not keep_punctuation:\n",
        "        tokenized_list=[token for token in tokenized_list \n",
        "                        if token not in string.punctuation]\n",
        "    \n",
        "    if not keep_alphanum:\n",
        "        tokenized_list=[token for token in tokenized_list if token.isalpha()]\n",
        "        \n",
        "    if not keep_stop:\n",
        "        # stop_words=set(stop_words.words('english'))\n",
        "        tokenized_list=[token for token in tokenized_list if not token in stop_words]\n",
        "        \n",
        "    return tokenized_list\n",
        "\n",
        "# temp_text='Krishna yadav were 7 '\n",
        "# temp_text=tokenize_text(temp_text)\n",
        "\n",
        "cyble_data['Text']=cyble_data['Text'].apply(tokenize_text)"
      ]
    },
    {
      "cell_type": "code",
      "execution_count": null,
      "metadata": {
        "colab": {
          "base_uri": "https://localhost:8080/"
        },
        "id": "fBiMHZSl0BBD",
        "outputId": "d90c14f3-8ae3-45ba-b570-591b2b6b01d5"
      },
      "outputs": [
        {
          "output_type": "execute_result",
          "data": {
            "text/plain": [
              "0    [always, obvious, got, covid, bit, tired, achy...\n",
              "1    [pfizer, expects, billion, sale, covid, vaccin...\n",
              "2    [leonard, barden, chess, carlsen, overcomes, c...\n",
              "3    [wear, one, covid, stop, flu, cold, transmissi...\n",
              "4      [damn, girl, catalytic, converter, want, steal]\n",
              "Name: Text, dtype: object"
            ]
          },
          "metadata": {},
          "execution_count": 82
        }
      ],
      "source": [
        "cyble_data['Text'].head()"
      ]
    },
    {
      "cell_type": "code",
      "execution_count": null,
      "metadata": {
        "colab": {
          "base_uri": "https://localhost:8080/"
        },
        "id": "Q0SBO93I0Gqy",
        "outputId": "7b7592f3-e6d2-4968-e375-2364aa6fbed8"
      },
      "outputs": [
        {
          "output_type": "stream",
          "name": "stdout",
          "text": [
            "[nltk_data] Downloading package wordnet to /root/nltk_data...\n",
            "[nltk_data]   Package wordnet is already up-to-date!\n"
          ]
        }
      ],
      "source": [
        "from nltk.stem import WordNetLemmatizer\n",
        "from nltk.corpus import wordnet\n",
        "nltk.download('wordnet')\n",
        "\n",
        "# import nltk\n",
        "# dler = nltk.downloader.Downloader()\n",
        "# dler._update_index()\n",
        "# dler.download('omw-1.4')\n",
        "\n",
        "def lemmatize_text(text):\n",
        "    tokenized_list_lematized=[]\n",
        "    lemmatizer=WordNetLemmatizer()\n",
        "    for token in text:\n",
        "        tokenized_list_lematized.append(lemmatizer.lemmatize(token))\n",
        "    \n",
        "    return tokenized_list_lematized\n",
        "\n",
        "# temp_text=['Manager','Managing', 'Management']\n",
        "# returned_text=lemmatize_text(temp_text)\n",
        "\n",
        "cyble_data['Text']=cyble_data['Text'].apply(lemmatize_text)"
      ]
    },
    {
      "cell_type": "code",
      "execution_count": null,
      "metadata": {
        "id": "97QRyQjc13gj"
      },
      "outputs": [],
      "source": [
        "# Singapore       47340\n",
        "# London          47194\n",
        "# Mumbai          46537\n",
        "# NewYork         46489\n",
        "# Paris           45634\n",
        "# Sydney          44527\n",
        "# Berlin          44465\n",
        "# Tokyo           42635\n",
        "# Johannesburg    24782\n",
        "\n",
        "locations=cyble_data['Location'].unique()\n",
        "data_list=[]\n",
        "\n",
        "for location in locations:\n",
        "  temp=pd.DataFrame(\n",
        "      \n",
        "      \n",
        "  )\n"
      ]
    },
    {
      "cell_type": "code",
      "execution_count": null,
      "metadata": {
        "colab": {
          "base_uri": "https://localhost:8080/"
        },
        "id": "8AEVKc1v1535",
        "outputId": "c71d1a44-e1a9-4166-da71-8412ab0d5c63"
      },
      "outputs": [
        {
          "output_type": "stream",
          "name": "stdout",
          "text": [
            "['london' 'tokyo' 'johannesburg' 'paris' 'berlin' 'singapore' 'sydney'\n",
            " 'newyork' 'mumbai']\n"
          ]
        }
      ],
      "source": [
        "print(locations)"
      ]
    },
    {
      "cell_type": "code",
      "execution_count": null,
      "metadata": {
        "id": "TdN1-TWQ17bl"
      },
      "outputs": [],
      "source": [
        "\"\"\"\n",
        "Text Vectorization\n",
        "\"\"\"\n",
        "\n",
        "from sklearn.preprocessing import LabelEncoder\n",
        "encoder=LabelEncoder()\n",
        "cyble_data['category']=encoder.fit_transform(cyble_data['Section'])"
      ]
    },
    {
      "cell_type": "code",
      "execution_count": null,
      "metadata": {
        "colab": {
          "base_uri": "https://localhost:8080/"
        },
        "id": "XrGUKRly39lH",
        "outputId": "c1eede2c-75eb-4a8c-c27c-96a73253266d"
      },
      "outputs": [
        {
          "output_type": "execute_result",
          "data": {
            "text/plain": [
              "0    [always, obvious, got, covid, bit, tired, achy...\n",
              "1    [pfizer, expects, billion, sale, covid, vaccin...\n",
              "2    [leonard, barden, chess, carlsen, overcomes, c...\n",
              "3    [wear, one, covid, stop, flu, cold, transmissi...\n",
              "4      [damn, girl, catalytic, converter, want, steal]\n",
              "Name: Text, dtype: object"
            ]
          },
          "metadata": {},
          "execution_count": 87
        }
      ],
      "source": [
        "cyble_data['Text'].head()"
      ]
    },
    {
      "cell_type": "code",
      "execution_count": null,
      "metadata": {
        "id": "IhZRF9c42CXp"
      },
      "outputs": [],
      "source": [
        "#detokenize the word\n",
        "from nltk.tokenize.treebank import TreebankWordDetokenizer\n",
        "\n",
        "def detokenize(text):\n",
        "    detokenized=TreebankWordDetokenizer().detokenize(text)\n",
        "    return detokenized\n",
        "\n",
        "cyble_data['Text']=cyble_data['Text'].apply(detokenize)"
      ]
    },
    {
      "cell_type": "code",
      "execution_count": null,
      "metadata": {
        "colab": {
          "base_uri": "https://localhost:8080/"
        },
        "id": "NM4U_dVc4FqG",
        "outputId": "37ded388-0277-4385-f52e-ab2db2973cb2"
      },
      "outputs": [
        {
          "output_type": "execute_result",
          "data": {
            "text/plain": [
              "0    always obvious got covid bit tired achy headac...\n",
              "1    pfizer expects billion sale covid vaccine trea...\n",
              "2    leonard barden chess carlsen overcomes covid r...\n",
              "3    wear one covid stop flu cold transmission kill...\n",
              "4             damn girl catalytic converter want steal\n",
              "Name: Text, dtype: object"
            ]
          },
          "metadata": {},
          "execution_count": 89
        }
      ],
      "source": [
        "cyble_data['Text'].head()"
      ]
    },
    {
      "cell_type": "code",
      "execution_count": null,
      "metadata": {
        "id": "J4jmtMXL4Roz"
      },
      "outputs": [],
      "source": [
        "\"\"\"\n",
        "creating n_grams\n",
        "\"\"\"\n",
        "import re\n",
        "\n",
        "def generate_ngrams(s):\n",
        "    n=1\n",
        "    # Convert to lowercases\n",
        "    s = s.lower()\n",
        "    \n",
        "    # # Replace all none alphanumeric characters with spaces\n",
        "    # s = re.sub(r'[^a-zA-Z0-9\\s]', ' ', s)\n",
        "    \n",
        "    # Break sentence in the token, remove empty tokens\n",
        "    tokens = [token for token in s.split(\" \") if token != \"\"]\n",
        "    \n",
        "    # Use the zip function to help us generate n-grams\n",
        "    # Concatentate the tokens into ngrams and return\n",
        "    ngrams = zip(*[tokens[i:] for i in range(n)])\n",
        "    return [\" \".join(ngram) for ngram in ngrams]\n",
        "\n",
        "\n",
        "cyble_data['Text']=cyble_data['Text'].apply(generate_ngrams)\n",
        "\n",
        "\n",
        "x=cyble_data['Text'].tolist()\n",
        "y=cyble_data['category'].tolist()   "
      ]
    },
    {
      "cell_type": "code",
      "execution_count": null,
      "metadata": {
        "colab": {
          "base_uri": "https://localhost:8080/"
        },
        "id": "kDgA6csd4jwb",
        "outputId": "c8711b4f-15f8-4388-fd12-b81d287fae46"
      },
      "outputs": [
        {
          "output_type": "stream",
          "name": "stdout",
          "text": [
            "14.495545465512329\n"
          ]
        }
      ],
      "source": [
        "#counting the lenth of a words\n",
        "count=[]\n",
        "for index in range(len(x)):\n",
        "    count.append(len(x[index]))\n",
        "\n",
        "print(np.average(count))"
      ]
    },
    {
      "cell_type": "code",
      "execution_count": null,
      "metadata": {
        "id": "co4hpl-G4nTx"
      },
      "outputs": [],
      "source": [
        "#removing empty list        \n",
        "x_revised=[]\n",
        "y_revised=[]\n",
        "empty=[]\n",
        "for index in range(len(x)):\n",
        "    if len(x[index])!=0:\n",
        "        x_revised.append(x[index])\n",
        "        y_revised.append(y[index])"
      ]
    },
    {
      "cell_type": "code",
      "execution_count": null,
      "metadata": {
        "id": "Jk3WbQTi5fuu"
      },
      "outputs": [],
      "source": [
        "#onehot representation\n",
        "voc_size=30000\n",
        "flattened = []\n",
        "for sublist in x:\n",
        "    flattened.append(str(sublist)[1:-1])\n",
        "\n",
        "\n",
        "onehot_representation=[one_hot(words, voc_size) for words in flattened]\n",
        "# onehot_representation"
      ]
    },
    {
      "cell_type": "code",
      "execution_count": null,
      "metadata": {
        "id": "i5vUWg0k5lgx"
      },
      "outputs": [],
      "source": [
        "#embedding representaion\n",
        "sentence_length=20\n",
        "embedded_result=pad_sequences(onehot_representation, padding='pre', maxlen=sentence_length)"
      ]
    },
    {
      "cell_type": "code",
      "execution_count": null,
      "metadata": {
        "colab": {
          "base_uri": "https://localhost:8080/"
        },
        "id": "KvZPsb605qzp",
        "outputId": "25467d7d-9393-4185-978f-d7ca378c9858"
      },
      "outputs": [
        {
          "output_type": "execute_result",
          "data": {
            "text/plain": [
              "(389603, 20)"
            ]
          },
          "metadata": {},
          "execution_count": 95
        }
      ],
      "source": [
        "embedded_result.shape"
      ]
    },
    {
      "cell_type": "code",
      "execution_count": null,
      "metadata": {
        "id": "At270G865sS4"
      },
      "outputs": [],
      "source": [
        "import numpy as np\n",
        "x_data=np.array(embedded_result)\n",
        "y_data=np.array(y)\n",
        "\n",
        "#train test split\n",
        "from sklearn.model_selection import train_test_split\n",
        "x_train, x_test, y_train, y_test=train_test_split(x_data, y_data, test_size=0.2, random_state=42)"
      ]
    },
    {
      "cell_type": "code",
      "execution_count": null,
      "metadata": {
        "colab": {
          "base_uri": "https://localhost:8080/"
        },
        "id": "Iog5rxDr6Eep",
        "outputId": "e04d6a61-7bd0-489f-cd20-dd51f8b7954a"
      },
      "outputs": [
        {
          "output_type": "execute_result",
          "data": {
            "text/plain": [
              "(311682, 20)"
            ]
          },
          "metadata": {},
          "execution_count": 97
        }
      ],
      "source": [
        "pd.DataFrame(x_train).shape"
      ]
    },
    {
      "cell_type": "code",
      "execution_count": null,
      "metadata": {
        "id": "qDz6lJxP5v35"
      },
      "outputs": [],
      "source": [
        "#second model\n",
        "feature_vector_embedding=20\n",
        "model = keras.models.Sequential([\n",
        "        keras.layers.Embedding(voc_size,feature_vector_embedding, input_length=sentence_length),\n",
        "        # keras.layers.Dropout(0.5),\n",
        "        keras.layers.GRU(30, return_sequences=True),\n",
        "        keras.layers.Dropout(0.5),\n",
        "        keras.layers.GRU(20, return_sequences=True),\n",
        "        keras.layers.Dropout(0.2),\n",
        "        keras.layers.GRU(10, return_sequences=True),\n",
        "        keras.layers.GRU(5),\n",
        "        keras.layers.Dense(3, activation=\"softmax\")\n",
        "    ])\n",
        "model.compile(loss=\"sparse_categorical_crossentropy\", optimizer=keras.optimizers.Adam(),\n",
        "              metrics=[\"accuracy\"])\n",
        "history=model.fit(x_train, y_train, validation_data=(x_test, y_test), epochs=5, batch_size=256)"
      ]
    },
    {
      "cell_type": "code",
      "source": [
        "model.summary()"
      ],
      "metadata": {
        "id": "8KApfRHQtuDt"
      },
      "execution_count": null,
      "outputs": []
    }
  ],
  "metadata": {
    "accelerator": "GPU",
    "colab": {
      "name": "Cen_Learning_bi.ipynb",
      "provenance": []
    },
    "kernelspec": {
      "display_name": "Python 3",
      "name": "python3"
    },
    "language_info": {
      "name": "python"
    }
  },
  "nbformat": 4,
  "nbformat_minor": 0
}
